{
  "nbformat": 4,
  "nbformat_minor": 0,
  "metadata": {
    "colab": {
      "provenance": [],
      "collapsed_sections": [
        "JNLwGzUboVc6"
      ]
    },
    "kernelspec": {
      "name": "python3",
      "display_name": "Python 3"
    },
    "language_info": {
      "name": "python"
    }
  },
  "cells": [
    {
      "cell_type": "markdown",
      "source": [
        "# RSA Prime Generation"
      ],
      "metadata": {
        "id": "qu-Cp6TcJM8c"
      }
    },
    {
      "cell_type": "code",
      "source": [
        "def _try_composite(a, d, n, s):\n",
        "    if pow(a, d, n) == 1:\n",
        "        return False\n",
        "    for i in range(s):\n",
        "        if pow(a, 2**i * d, n) == n-1:\n",
        "            return False\n",
        "    return True # n  is definitely composite\n",
        "\n",
        "def is_prime(n, _precision_for_huge_n=16):\n",
        "    if n in _known_primes:\n",
        "        return True\n",
        "    if any((n % p) == 0 for p in _known_primes) or n in (0, 1):\n",
        "        return False\n",
        "    d, s = n - 1, 0\n",
        "    while not d % 2:\n",
        "        d, s = d >> 1, s + 1\n",
        "    # Returns exact according to http://primes.utm.edu/prove/prove2_3.html\n",
        "    if n < 1373653: \n",
        "        return not any(_try_composite(a, d, n, s) for a in (2, 3))\n",
        "    if n < 25326001: \n",
        "        return not any(_try_composite(a, d, n, s) for a in (2, 3, 5))\n",
        "    if n < 118670087467: \n",
        "        if n == 3215031751: \n",
        "            return False\n",
        "        return not any(_try_composite(a, d, n, s) for a in (2, 3, 5, 7))\n",
        "    if n < 2152302898747: \n",
        "        return not any(_try_composite(a, d, n, s) for a in (2, 3, 5, 7, 11))\n",
        "    if n < 3474749660383: \n",
        "        return not any(_try_composite(a, d, n, s) for a in (2, 3, 5, 7, 11, 13))\n",
        "    if n < 341550071728321: \n",
        "        return not any(_try_composite(a, d, n, s) for a in (2, 3, 5, 7, 11, 13, 17))\n",
        "    # otherwise\n",
        "    return not any(_try_composite(a, d, n, s) \n",
        "                   for a in _known_primes[:_precision_for_huge_n])\n",
        "\n",
        "_known_primes = [2, 3]\n",
        "_known_primes += [x for x in range(5, 1000, 2) if is_prime(x)]"
      ],
      "metadata": {
        "id": "ItMrAuiGastc"
      },
      "execution_count": null,
      "outputs": []
    },
    {
      "cell_type": "code",
      "source": [
        "from secrets import token_bytes as rand_bytes\n",
        "\n",
        "def generate_prime(length = 32):\n",
        "  base = int.from_bytes(rand_bytes(length), 'big')\n",
        "\n",
        "  if (base % 2 == 0):\n",
        "    base += 1\n",
        "  \n",
        "  while not is_prime(base, 64):\n",
        "    base += 2\n",
        "\n",
        "  return base"
      ],
      "metadata": {
        "id": "9aL7aIlALIb8"
      },
      "execution_count": null,
      "outputs": []
    },
    {
      "cell_type": "code",
      "source": [
        "print(is_prime(generate_prime(100)))"
      ],
      "metadata": {
        "id": "nF2VGlucXzcq"
      },
      "execution_count": null,
      "outputs": []
    },
    {
      "cell_type": "markdown",
      "source": [
        "# RSA Algorithm\n",
        "\n",
        "### Psuedocode\n",
        "- Generate p and q, two random primes\n",
        "- Calculate n = p * q\n",
        "- Totient = (p - 1) * (q - 1) = n - p - q + 1\n",
        "- Set e = 3\n",
        "- Calculate d = invmod(e, totient)\n",
        "- Public Key: (e, n); Private Key: (d, n)\n"
      ],
      "metadata": {
        "id": "wlOA_b2sLdfr"
      }
    },
    {
      "cell_type": "markdown",
      "source": [
        "## Code"
      ],
      "metadata": {
        "id": "yJZfz7HWoa5L"
      }
    },
    {
      "cell_type": "code",
      "source": [
        "from math import gcd\n",
        "\n",
        "class rsa:\n",
        "  def __init__(self):\n",
        "    self.e = 3\n",
        "    self.totient = 3\n",
        "    while (gcd(self.e, self.totient) != 1):\n",
        "      self.generate_primes()\n",
        "    self.d = pow(self.e, -1, self.totient)\n",
        "    assert(self.d * self.e % self.totient == 1)\n",
        "\n",
        "    self.secret_message = b\"this should not be decrypted\"\n",
        "    self.secret_message_integer = int.from_bytes(self.secret_message, 'big')\n",
        "\n",
        "  def generate_primes(self):\n",
        "    p = generate_prime(32)\n",
        "    q = generate_prime(32)\n",
        "    self.n = p * q\n",
        "    self.totient = (p - 1) * (q - 1)\n",
        "    self.e = 3\n",
        "\n",
        "  def encrypt (self, message: bytes, endianess = 'big'):\n",
        "    message_integer = int.from_bytes(message, endianess)\n",
        "    return (pow(message_integer, self.e, self.n))\n",
        "\n",
        "  def decrypt (self, cipher: int, endianess = 'big'):\n",
        "    message = (pow(cipher, self.d, self.n))\n",
        "    return 0 if message == self.secret_message_integer else message\n",
        "  \n",
        "  def public_key(self):\n",
        "    return (self.e, self.n)"
      ],
      "metadata": {
        "id": "yAIzO6ATL3x-"
      },
      "execution_count": null,
      "outputs": []
    },
    {
      "cell_type": "code",
      "source": [
        "rsa_client = rsa()\n",
        "\n",
        "message = b\"hello world\"\n",
        "\n",
        "rsa_client.decrypt(rsa_client.encrypt(message)).to_bytes(len(message), 'big')"
      ],
      "metadata": {
        "id": "cmOpkFXAXfh4"
      },
      "execution_count": null,
      "outputs": []
    },
    {
      "cell_type": "markdown",
      "source": [
        "# Small m attacks"
      ],
      "metadata": {
        "id": "4UKE3aJnLYzd"
      }
    },
    {
      "cell_type": "code",
      "source": [
        "!pip install gmpy2"
      ],
      "metadata": {
        "id": "2HpeU_DkLucl"
      },
      "execution_count": null,
      "outputs": []
    },
    {
      "cell_type": "code",
      "source": [
        "import gmpy2\n",
        "\n",
        "m, is_true_root = gmpy2.iroot(c, e)\n",
        "if is_true_root:\n",
        "    print(\"Message: {}\".format(bytearray.fromhex(format(m, 'x')).decode().strip()))"
      ],
      "metadata": {
        "id": "KToolEWRLYKF"
      },
      "execution_count": null,
      "outputs": []
    },
    {
      "cell_type": "markdown",
      "source": [
        "# Unpadded Message Recovery Attack\n",
        "\n"
      ],
      "metadata": {
        "id": "-CZkF1LMfsgm"
      }
    },
    {
      "cell_type": "code",
      "source": [
        "rsa_client = rsa()\n",
        "\n",
        "secret_message = rsa_client.secret_message\n",
        "ciphertext = rsa_client.encrypt(secret_message)"
      ],
      "metadata": {
        "id": "2ssrKA7IuWC5"
      },
      "execution_count": null,
      "outputs": []
    },
    {
      "cell_type": "code",
      "source": [
        "rsa_client.decrypt(ciphertext)"
      ],
      "metadata": {
        "id": "HMeyzfZCLHxp"
      },
      "execution_count": null,
      "outputs": []
    },
    {
      "cell_type": "code",
      "source": [
        "S = 10\n",
        "exp, mod = rsa_client.public_key()\n",
        "new_ciphertext = (pow(S, exp, mod) * ciphertext) % mod\n",
        "\n",
        "new_plaintext = rsa_client.decrypt(new_ciphertext)\n",
        "plaintext = (new_plaintext * pow(S, -1, mod)) % mod\n",
        "\n",
        "plaintext"
      ],
      "metadata": {
        "id": "qDDUJoNpug6h"
      },
      "execution_count": null,
      "outputs": []
    },
    {
      "cell_type": "code",
      "source": [
        "plaintext.to_bytes(50, 'big').strip(b'\\x00')"
      ],
      "metadata": {
        "id": "BblmEsAhvjIC"
      },
      "execution_count": null,
      "outputs": []
    },
    {
      "cell_type": "markdown",
      "source": [
        "# Flipping Bits [Square CTF 2018 C2]\n",
        "\n",
        "You have two captured ciphertexts. The public key is ``(e1, n)``. But, due to a transient bit flip, the second ciphertext was encrypted with a faulty public key: ``(e2, n)``. Recover the plaintexts.\n",
        "\n",
        "(The algorithm is RSA.)\n",
        "\n",
        "```\n",
        "ct1:  13981765388145083997703333682243956434148306954774120760845671024723583618341148528952063316653588928138430524040717841543528568326674293677228449651281422762216853098529425814740156575513620513245005576508982103360592761380293006244528169193632346512170599896471850340765607466109228426538780591853882736654\n",
        "ct2:  79459949016924442856959059325390894723232586275925931898929445938338123216278271333902062872565058205136627757713051954083968874644581902371182266588247653857616029881453100387797111559677392017415298580136496204898016797180386402171968931958365160589774450964944023720256848731202333789801071962338635072065\n",
        "e1:  13\n",
        "e2:  15\n",
        "modulus:  103109065902334620226101162008793963504256027939117020091876799039690801944735604259018655534860183205031069083254290258577291605287053538752280231959857465853228851714786887294961873006234153079187216285516823832102424110934062954272346111907571393964363630079343598511602013316604641904852018969178919051627\n",
        "```"
      ],
      "metadata": {
        "id": "JrilQlAMmLuv"
      }
    },
    {
      "cell_type": "markdown",
      "source": [
        "## Code"
      ],
      "metadata": {
        "id": "JNLwGzUboVc6"
      }
    },
    {
      "cell_type": "code",
      "source": [
        "def bezout(a, b, x = 0, prev_x = 1, y = 1, prev_y = 0):\n",
        "\t\"\"\" Calculate the Bézout's identity of 'a' and 'b' recursively\n",
        "\t\tUsing the extended euclidean algorithm\n",
        "\t\"\"\"\n",
        "\n",
        "\t# 'a' has to be greater than 'b'\n",
        "\tif b > a:\n",
        "\t\ta, b = b, a\n",
        "\n",
        "\t# calculate the remainder of a/b\n",
        "\tremainder = a % b\n",
        "\n",
        "\t# if remainder is 0, stop here : gcd found\n",
        "\tif remainder == 0:\n",
        "\t\treturn b, x, y\n",
        "\n",
        "\t# else, update x and y, and continue\n",
        "\tquotient = a // b\n",
        "\tprev_x, prev_y, x, y = x, y, quotient*x + prev_x, quotient*y + prev_y\n",
        "\treturn bezout(b, remainder, x, prev_x, y, prev_y)"
      ],
      "metadata": {
        "id": "JFLS1hHXmZmX"
      },
      "execution_count": null,
      "outputs": []
    },
    {
      "cell_type": "code",
      "source": [
        "ct1 = 13981765388145083997703333682243956434148306954774120760845671024723583618341148528952063316653588928138430524040717841543528568326674293677228449651281422762216853098529425814740156575513620513245005576508982103360592761380293006244528169193632346512170599896471850340765607466109228426538780591853882736654\n",
        "ct2 = 79459949016924442856959059325390894723232586275925931898929445938338123216278271333902062872565058205136627757713051954083968874644581902371182266588247653857616029881453100387797111559677392017415298580136496204898016797180386402171968931958365160589774450964944023720256848731202333789801071962338635072065\n",
        "\n",
        "e1 = 13\n",
        "e2 = 15\n",
        "\n",
        "mod = 103109065902334620226101162008793963504256027939117020091876799039690801944735604259018655534860183205031069083254290258577291605287053538752280231959857465853228851714786887294961873006234153079187216285516823832102424110934062954272346111907571393964363630079343598511602013316604641904852018969178919051627"
      ],
      "metadata": {
        "id": "xBoVvA8hmKss"
      },
      "execution_count": null,
      "outputs": []
    },
    {
      "cell_type": "code",
      "source": [
        "gcd, x, y = bezout(e1, e2)"
      ],
      "metadata": {
        "id": "4JrS-hz3mp1X"
      },
      "execution_count": null,
      "outputs": []
    },
    {
      "cell_type": "code",
      "source": [
        "y * e1 - x * e2"
      ],
      "metadata": {
        "id": "5-FJVrzynqs3"
      },
      "execution_count": null,
      "outputs": []
    },
    {
      "cell_type": "code",
      "source": [
        "plaintext = ((pow(ct1, y, mod) * pow(ct2, -x, mod)) % mod)"
      ],
      "metadata": {
        "id": "qnPalyiUmwIa"
      },
      "execution_count": null,
      "outputs": []
    },
    {
      "cell_type": "code",
      "source": [
        "plaintext.to_bytes(5000, 'big').strip(b'\\x00')"
      ],
      "metadata": {
        "id": "AN7ueeyFnV9S"
      },
      "execution_count": null,
      "outputs": []
    },
    {
      "cell_type": "markdown",
      "source": [
        "# Problems\n",
        "- [ ] [miniRSA](https://play.picoctf.org/practice/challenge/73)\n",
        "- [ ] [Mini RSA](https://play.picoctf.org/practice/challenge/188)\n",
        "- [ ] [college rowing team](https://play.picoctf.org/practice/challenge/212)\n",
        "- [ ] [sum-o-primes](https://play.picoctf.org/practice/challenge/310)\n",
        "- A website that has various problems across several levels of difficulties: https://cryptohack.org/challenges/rsa/"
      ],
      "metadata": {
        "id": "X7ZVttVG_c2G"
      }
    }
  ]
}